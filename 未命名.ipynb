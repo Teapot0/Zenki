{
 "cells": [
  {
   "cell_type": "code",
   "execution_count": 1,
   "metadata": {},
   "outputs": [
    {
     "name": "stdout",
     "output_type": "stream",
     "text": [
      "auth success \n"
     ]
    }
   ],
   "source": [
    "import pandas as pd\n",
    "import jqfactor_analyzer as ja\n",
    "import matplotlib.pyplot as plt\n",
    "from tqdm import tqdm\n",
    "from jqdatasdk import auth, get_query_count\n",
    "from jqdatasdk import alpha191\n",
    "auth('13382017213', 'Aasd120120')\n",
    "get_query_count()\n",
    "\n",
    "import warnings\n",
    "warnings.filterwarnings('ignore')\n",
    "\n",
    "dateparse = lambda x: pd.datetime.strptime(x, '%Y-%m-%d')\n",
    "\n",
    "close = pd.read_csv('/Users/caichaohong/Desktop/Zenki/price/daily/close.csv',index_col='Unnamed: 0')"
   ]
  },
  {
   "cell_type": "code",
   "execution_count": 3,
   "metadata": {},
   "outputs": [
    {
     "name": "stderr",
     "output_type": "stream",
     "text": [
      "100%|██████████| 1846/1846 [1:12:23<00:00,  2.07s/it]\n"
     ]
    }
   ],
   "source": [
    "date_list = list(close.index)\n",
    "stock_list = list(close.columns)\n",
    "out = pd.DataFrame(index=date_list, columns = stock_list)\n",
    "for d in tqdm(date_list):\n",
    "    out.loc[d] = alpha191.alpha_064(stock_list,d,fq ='pre')\n",
    "out.to_csv('/Users/caichaohong/Desktop/Zenki/factors/191/alpha_064.csv')"
   ]
  },
  {
   "cell_type": "code",
   "execution_count": null,
   "metadata": {},
   "outputs": [],
   "source": []
  }
 ],
 "metadata": {
  "kernelspec": {
   "display_name": "Python 3",
   "language": "python",
   "name": "python3"
  },
  "language_info": {
   "codemirror_mode": {
    "name": "ipython",
    "version": 3
   },
   "file_extension": ".py",
   "mimetype": "text/x-python",
   "name": "python",
   "nbconvert_exporter": "python",
   "pygments_lexer": "ipython3",
   "version": "3.7.1"
  }
 },
 "nbformat": 4,
 "nbformat_minor": 2
}
